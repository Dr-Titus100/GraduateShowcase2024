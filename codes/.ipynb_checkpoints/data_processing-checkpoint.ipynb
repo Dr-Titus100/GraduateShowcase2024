{
 "cells": [
  {
   "cell_type": "code",
   "execution_count": 4,
   "id": "e9c105e5-66ff-4c57-94ad-21d7e352db08",
   "metadata": {
    "tags": []
   },
   "outputs": [
    {
     "name": "stdout",
     "output_type": "stream",
     "text": [
      "The autoreload extension is already loaded. To reload it, use:\n",
      "  %reload_ext autoreload\n"
     ]
    }
   ],
   "source": [
    "#--------------- Packages ---------------#\n",
    "%load_ext autoreload\n",
    "%autoreload 2\n",
    "import torch\n",
    "import Corrfunc\n",
    "import numpy as np\n",
    "from sbi import utils\n",
    "import matplotlib.pyplot as plt\n",
    "from getdist import plots, MCSamples\n",
    "from sbi.inference.base import infer\n",
    "from colossus.cosmology import cosmology\n",
    "from scipy.stats import norm, multivariate_normal\n",
    "from colossus.halo import concentration, profile_nfw, profile_composite\n",
    "plt.style.use(\"CustomizingPlots\")\n",
    "%matplotlib inline"
   ]
  },
  {
   "cell_type": "code",
   "execution_count": 5,
   "id": "23dd636d-cdce-459e-a9b7-ac91a9367bc8",
   "metadata": {},
   "outputs": [
    {
     "name": "stderr",
     "output_type": "stream",
     "text": [
      "[Warning] The CPU supports AVX2 but the compiler does not.  Can you try another compiler?\n",
      "[Warning] The CPU supports AVX but the compiler does not.  Can you try another compiler?\n",
      "[Warning] The CPU supports SSE4.2 but the compiler does not.  Can you try another compiler?\n",
      "[Warning] The CPU supports SSE4.1 but the compiler does not.  Can you try another compiler?\n",
      "[Warning] The CPU supports SSSE3 but the compiler does not.  Can you try another compiler?\n"
     ]
    }
   ],
   "source": [
    "from measure_lensing_v2 import MeasureLensing\n",
    "from read_mini_uchuu import ReadMiniUchuu\n",
    "output_loc = '/global/u2/t/titus/Titus/Lensing/output/'\n",
    "nbody_loc = '/global/u2/t/titus/Titus/Lensing/data/'\n",
    "lensing_loc = '/global/u2/t/titus/Titus/Lensing/data/McClintock_data/desy1_tamas/'\n",
    "# plot_loc = '/global/u2/t/titus/Lensing/plots/'\n",
    "\n",
    "z=0.3\n",
    "rmu = ReadMiniUchuu(nbody_loc, redshift=z)\n",
    "xp, yp, zp = rmu.read_particles()\n",
    "\n",
    "#### halos ####\n",
    "rmu.read_halos(Mmin=1e13)\n",
    "# boxsize = rmu.boxsize\n",
    "xh = rmu.xh\n",
    "yh = rmu.yh\n",
    "zh = rmu.zh\n",
    "mass = rmu.mass\n",
    "boxsize = rmu.boxsize\n",
    "rhocrit = 2.775e11\n",
    "OmegaM = rmu.OmegaM\n",
    "mpart = rhocrit*OmegaM*boxsize**3/len(xp)\n",
    "\n",
    "# out_loc = 'data/'\n",
    "ml = MeasureLensing(nbody_loc, Rmin=-2, Rmax=2.3, pimax=100)\n",
    "# ml = MeasureLensing(nbody_loc, Rmin=0.0323, Rmax=30, pimax=100)\n",
    "ml.write_bin_file()"
   ]
  },
  {
   "cell_type": "code",
   "execution_count": null,
   "id": "b7ddca61-4ed8-4a60-b8dc-1fae5eea9c58",
   "metadata": {
    "tags": []
   },
   "outputs": [],
   "source": []
  },
  {
   "cell_type": "markdown",
   "id": "29455b44-5a48-4bba-855c-f174f1980db0",
   "metadata": {},
   "source": [
    "## Mass-richness scaling relation\n",
    "\n",
    "<!-- ### Packages -->"
   ]
  },
  {
   "cell_type": "code",
   "execution_count": 8,
   "id": "dd449a79-226c-4e5c-9de7-8ebd0bb21deb",
   "metadata": {},
   "outputs": [
    {
     "data": {
      "text/plain": [
       "array([96.29563546, 74.14774729, 86.28597155, ...,  0.9059358 ,\n",
       "        2.28910693,  1.12185428])"
      ]
     },
     "execution_count": 8,
     "metadata": {},
     "output_type": "execute_result"
    }
   ],
   "source": [
    "# NOTE: Convert all the functions here into a module.\n",
    "# Set cosmology\n",
    "cosmo_params = {'flat': True, 'H0': 67.74, 'Om0': 0.3089, 'Ob0': 0.0486, 'sigma8': 0.8159, 'ns': 0.9667}\n",
    "cosmology.addCosmology('MiniUchuu', cosmo_params)\n",
    "cosmo = cosmology.setCosmology('MiniUchuu')\n",
    "h = cosmo_params['H0']/100\n",
    "# mass-richness scaling relation\n",
    "def mrsr(M, M_0, z, sr_type = None, params_path = None):\n",
    "    if sr_type == \"mcclintock\": # McClintock, 2019 scaling relation\n",
    "        # Melchior, 2017 scaling relation\n",
    "        lam_0 = 30 # Pivot richness\n",
    "        z_0 = 0.5 # Pivot redshift\n",
    "        G_z = 0.18 # Redshift scaling index\n",
    "        F_lam = 1.12 # Richness scaling index\n",
    "        q_ln_lam = 0.25 #scatter\n",
    "        \n",
    "        lam0 = lam_0*(M/(M_0*((1+z)/(1+z_0))**G_z))**(1/F_lam)\n",
    "        # lam_noisy1 = lam0\n",
    "        # lam_noisy1 = norm.rvs(lam0, lam0*q_ln_lam)\n",
    "        lam_noisy1 = norm.rvs(lam0, 0.0)\n",
    "        \n",
    "        ln_lam = (np.log(M)-np.log(M_0)-G_z*np.log((1+z)/(1+z_0)))/F_lam + np.log(lam_0)\n",
    "        ln_lam_noisy = norm.rvs(ln_lam, q_ln_lam, random_state=42)\n",
    "        # ln_lam_noisy = norm.rvs(ln_lam, 0.0)\n",
    "        lam_noisy2 = np.exp(ln_lam_noisy)\n",
    "    return lam_noisy2\n",
    "\n",
    "def invert_mrsr(lam, M_0, z):\n",
    "    # Melchior, 2017 scaling relation\n",
    "    lam_0 = 30 # Pivot richness\n",
    "    z_0 = 0.5 # Pivot redshift\n",
    "    G_z = 0.18 # Redshift scaling index\n",
    "    F_lam = 1.12 # Richness scaling index\n",
    "    q_ln_lam = 0.25 #scatter\n",
    "    avg_M = M_0*((lam/lam_0)**F_lam)*((1+z)/(1+z_0))**G_z\n",
    "    return avg_M\n",
    "\n",
    "true_mass = mass#[sel]\n",
    "lam_noiseless2 = mrsr(true_mass*h, 10**14.371, 0.3, \"mcclintock\") # Melchior scaling relation\n",
    "lam_noiseless2"
   ]
  },
  {
   "cell_type": "code",
   "execution_count": 9,
   "id": "86692f53-61d2-400b-99d7-e42db96653c5",
   "metadata": {
    "tags": []
   },
   "outputs": [],
   "source": [
    "avg_M = invert_mrsr(lam = lam_noiseless2, M_0 = 10**14.371, z = 0.3)"
   ]
  },
  {
   "cell_type": "code",
   "execution_count": 14,
   "id": "031aece8-f52f-4de7-ad8e-99bb3a8f68df",
   "metadata": {
    "tags": []
   },
   "outputs": [
    {
     "name": "stdout",
     "output_type": "stream",
     "text": [
      "[0.12608367 0.13154669 0.14123626 0.09628341]\n",
      "[14.206389 14.402813 14.498789 14.732188]\n"
     ]
    }
   ],
   "source": [
    "# Creating richness bins\n",
    "sel0 = (lam_noiseless2 >= 20)&(lam_noiseless2 < 30)\n",
    "sel1 = (lam_noiseless2 >= 30)&(lam_noiseless2 < 45)\n",
    "sel2 = (lam_noiseless2 >= 45)&(lam_noiseless2 < 60)\n",
    "sel3 = lam_noiseless2 >= 60\n",
    "std_arr_true_nofit = np.array([np.std(np.log10(true_mass[sel0]*h)), np.std(np.log10(true_mass[sel1]*h)), np.std(np.log10(true_mass[sel2]*h)), np.std(np.log10(true_mass[sel3]*h))])\n",
    "mean_masses_true_nofit = np.array([np.log10(np.mean(true_mass[sel0]*h)), np.log10(np.mean(true_mass[sel1]*h)), np.log10(np.mean(true_mass[sel2]*h)), np.log10(np.mean(true_mass[sel3]*h))])\n",
    "print(std_arr_true_nofit)\n",
    "print(mean_masses_true_nofit)"
   ]
  },
  {
   "cell_type": "code",
   "execution_count": 15,
   "id": "0107b786-a6ff-4c15-9bcf-553a1ad37501",
   "metadata": {
    "tags": []
   },
   "outputs": [
    {
     "name": "stdout",
     "output_type": "stream",
     "text": [
      "198 80 20 11\n"
     ]
    }
   ],
   "source": [
    "print(len(true_mass[sel0]), len(true_mass[sel1]), len(true_mass[sel2]), len(true_mass[sel3]))"
   ]
  },
  {
   "cell_type": "code",
   "execution_count": 18,
   "id": "7f90f5c0-50b7-4655-86dc-9ec73b2d27c9",
   "metadata": {
    "tags": []
   },
   "outputs": [
    {
     "data": {
      "image/png": "[encoded data removed]",
      "text/plain": [
       "<Figure size 800x600 with 1 Axes>"
      ]
     },
     "metadata": {},
     "output_type": "display_data"
    }
   ],
   "source": [
    "mask = lam_noiseless2 > 20\n",
    "# x = [20, 30, 45, 60]\n",
    "# x = [30, 45, 60, 80]\n",
    "# x = [25, 35, 50, 65]\n",
    "x = [23.99617, 35.86541, 51.21334, 81.45424] # mean richness of the richness bins\n",
    "\n",
    "plt.rcParams['figure.figsize'] = (8,6)\n",
    "# plt.loglog()\n",
    "plt.xscale(\"log\")\n",
    "plt.plot(lam_noiseless2[mask], np.log10(true_mass[mask]*h), 'o', label = \"data\")\n",
    "plt.title(\"True vs recovered mass at z = 0.3\", fontsize=15)\n",
    "plt.xlabel(\"richness\", fontsize=15)\n",
    "plt.ylabel(\"Mass\", fontsize=15)\n",
    "plt.legend()\n",
    "plt.show()"
   ]
  },
  {
   "cell_type": "markdown",
   "id": "5d5115c9-906c-480c-9b25-32c86ef6f41f",
   "metadata": {},
   "source": [
    "### Evrard extra term\n",
    "\n",
    "#### Fitting extra term"
   ]
  },
  {
   "cell_type": "code",
   "execution_count": 20,
   "id": "0ccedee9-82a3-47ae-910c-6686e8fbc8be",
   "metadata": {},
   "outputs": [],
   "source": [
    "from sklearn.linear_model import LinearRegression\n",
    "def evrard_extra_term(richness, mass, C, random_state):#, x_cod, y_cod, z_cod):\n",
    "\n",
    "    # ln_lam0 = np.log(richness) # independent variable X\n",
    "    all_mass = norm.rvs(mass, 0.25, random_state=random_state)#mass\n",
    "    # selection = np.exp(richness) >= 20\n",
    "    ln_lam0 = richness #norm.rvs(richness, 0.25) #richness\n",
    "    selection = np.exp(ln_lam0) >= 20\n",
    "    ln_lam = ln_lam0[selection]\n",
    "    ln_mass = all_mass[selection] # dependent variable Y\n",
    "    \n",
    "    # linear regression model\n",
    "    lm = LinearRegression() # Construct model\n",
    "    lm.fit(ln_lam.reshape(-1, 1), ln_mass)\n",
    "    \n",
    "    # model parameters\n",
    "    intercept = lm.intercept_ # the intercept (B).\n",
    "    slope = lm.coef_ # the slope (A).\n",
    "    rsquared = lm.score(ln_lam.reshape(-1, 1), ln_mass) # the r-squared value\n",
    "    reg_line = lm.predict(ln_lam.reshape(-1, 1))\n",
    "    inv_reg_line = (ln_mass - intercept)/slope\n",
    "    \n",
    "    # computing alpha and pi\n",
    "    alpha = 1/slope\n",
    "    pi = -alpha*(intercept + C)\n",
    "    C = - (pi/alpha + intercept)\n",
    "    log_richness0 = alpha*all_mass + pi #no scatter\n",
    "    return log_richness0, alpha, pi, C, ln_lam, rsquared, reg_line, ln_mass, selection, all_mass#, x_cod_new, y_cod_new, z_cod_new\n",
    "    \n",
    "def evrard_extra_term2(richness, mass, C):#, x_cod, y_cod, z_cod):\n",
    "    all_mass = mass\n",
    "    # selection = np.exp(richness) >= 20\n",
    "    ln_lam0 = richness #norm.rvs(richness, 0.25) #richness\n",
    "    selection = np.exp(ln_lam0) >= 20\n",
    "    ln_lam = ln_lam0[selection]\n",
    "    ln_mass = all_mass[selection] # dependent variable Y\n",
    "    \n",
    "    # linear regression model\n",
    "    lm = LinearRegression() # Construct model\n",
    "    lm.fit(ln_lam.reshape(-1, 1), ln_mass)\n",
    "    \n",
    "    # model parameters\n",
    "    intercept = lm.intercept_ # the intercept (B).\n",
    "    slope = lm.coef_ # the slope (A).\n",
    "    rsquared = lm.score(ln_lam.reshape(-1, 1), ln_mass) # the r-squared value\n",
    "    reg_line = lm.predict(ln_lam.reshape(-1, 1))\n",
    "    inv_reg_line = (ln_mass - intercept)/slope\n",
    "    \n",
    "    # computing alpha and pi\n",
    "    alpha = 1/slope\n",
    "    pi = -alpha*(intercept + C)\n",
    "    C = - (pi/alpha + intercept)\n",
    "    log_richness0 = alpha*all_mass + pi #no scatter\n",
    "    \n",
    "    return log_richness0, alpha, pi, C, ln_lam, rsquared, reg_line, ln_mass, selection#, x_cod_new, y_cod_new, z_cod_new"
   ]
  },
  {
   "cell_type": "code",
   "execution_count": 21,
   "id": "cc711d9c-c294-4caa-9d4e-922889667496",
   "metadata": {},
   "outputs": [
    {
     "name": "stdout",
     "output_type": "stream",
     "text": [
      "[4.443243   4.340626   4.295744   ... 0.25791168 0.25791168 0.25782204]\n",
      "C [2.43913018e-07]\n",
      "[1.00944823]\n",
      "[-29.74107182]\n",
      "rsquared 1.0 \n",
      "\n",
      "[ 4.7782167   5.21728845  4.71886712 ... -0.31763024 -0.3796058\n",
      "  0.25399215]\n"
     ]
    }
   ],
   "source": [
    "# Melchior, 2017 scaling relation\n",
    "lam_0 = 30 # Pivot richness\n",
    "z = 0.30 # redshift\n",
    "z_0 = 0.5 # Pivot redshift\n",
    "G_z = 0.18 # Redshift scaling index\n",
    "F_lam = 1.12 # Richness scaling index\n",
    "q_ln_lam = 0.25 #scatter\n",
    "Mpivot = 10**14.371 #pivot mass\n",
    "M = mass*h#[true_mass>=1e14] # mass\n",
    "\n",
    "fiducial_C = 0.0 # just a random guess\n",
    "fiducial_alpha = 1/F_lam\n",
    "fiducial_pi = -(1/F_lam)*(np.log(Mpivot) + G_z*np.log((1+z)/(1+z_0)) - F_lam*np.log(lam_0))\n",
    "ln_lam = fiducial_alpha*np.log(M) + fiducial_pi\n",
    "print(ln_lam)\n",
    "\n",
    "# ln_lam_noisy = norm.rvs(ln_lam, q_ln_lam)\n",
    "# fiducial_richness = np.exp(ln_lam_noisy)\n",
    "fiducial_richness = ln_lam #norm.rvs(ln_lam, 0.25) #np.exp(ln_lam)\n",
    "C_list = [0.0]\n",
    "M_input = np.log(true_mass*h)\n",
    "# M_input = norm.rvs(true_mass/h, 0.25)\n",
    "\n",
    "seed = 6\n",
    "np.random.seed(seed)\n",
    "random_states = np.random.randint(0, 100, size=3)\n",
    "\n",
    "for i,random_state in enumerate(random_states):\n",
    "    new_richness, alpha, pi, C, ln_lam, rsquared, reg_line, ln_mass, selection, all_mass = evrard_extra_term(fiducial_richness, M_input, fiducial_C, random_state)\n",
    "    fiducial_C = C\n",
    "    fiducial_alpha = alpha\n",
    "    fiducial_pi = pi\n",
    "    fiducial_richness = new_richness\n",
    "    \n",
    "    new_richness, alpha, pi, C, ln_lam, rsquared, reg_line, ln_mass, selection = evrard_extra_term2(fiducial_richness, all_mass, fiducial_C)\n",
    "    fiducial_C = C\n",
    "    fiducial_alpha = alpha\n",
    "    fiducial_pi = pi\n",
    "    fiducial_richness = new_richness\n",
    "    \n",
    "    # M_input = all_mass\n",
    "    C_list.append(C)\n",
    "    # xh, yh, zh = x_cod_new, y_cod_new, z_cod_new\n",
    "print(\"C\", fiducial_C)\n",
    "print(fiducial_alpha)\n",
    "print(fiducial_pi)\n",
    "print(\"rsquared\", rsquared, \"\\n\")\n",
    "print(fiducial_richness)\n",
    "\n",
    "# # selection = richness >= 20\n",
    "# # Plot log mass vs log richness\n",
    "# plt.loglog()\n",
    "# plt.rcParams['figure.figsize'] = (14,6)\n",
    "# plt.subplot(1, 2, 1)\n",
    "# plt.scatter(ln_lam, ln_mass, c = \"g\", label = \"richness vs. mass\")\n",
    "# plt.plot(ln_lam, reg_line, \"r\")\n",
    "# plt.title(\"Richness vs mass\")\n",
    "# plt.xlabel(\"richness\")\n",
    "# plt.ylabel(\"mass\")\n",
    "# plt.subplot(1, 2, 2) \n",
    "# plt.scatter(M_input, new_richness, c = \"b\", label = \"mass vs. richness\")\n",
    "# plt.title(\"Mass vs richness\")\n",
    "# plt.xlabel(\"mass\")\n",
    "# plt.ylabel(\"richness\")\n",
    "# plt.show()"
   ]
  },
  {
   "cell_type": "code",
   "execution_count": 22,
   "id": "7c3be818-2a71-4b92-a314-74bc88f0ff15",
   "metadata": {},
   "outputs": [
    {
     "name": "stdout",
     "output_type": "stream",
     "text": [
      "27275 27275\n",
      "Length of richness bin 1: 251\n",
      "Length of richness bin 2: 118\n",
      "Length of richness bin 3: 50\n",
      "Length of richness bin 4: 26\n",
      "\n",
      "mean mass 1: 1.971057e+14\n",
      "mean mass 2: 2.865907e+14\n",
      "mean mass 3: 4.064710e+14\n",
      "mean mass 4: 6.429285e+14\n",
      "\n",
      "Number of halos 251\n",
      "Number of halos 118\n",
      "Number of halos 50\n"
     ]
    },
    {
     "name": "stderr",
     "output_type": "stream",
     "text": [
      "/global/u2/t/titus/Titus/Lensing/codes/GraduateShowcase2024/codes/measure_lensing_v2.py:62: RuntimeWarning: invalid value encountered in divide\n",
      "  rpavg = np.sum(rpsum_2d, axis=1)/(1.*npairs)\n",
      "/global/u2/t/titus/Titus/Lensing/codes/GraduateShowcase2024/codes/measure_lensing_v2.py:75: RuntimeWarning: divide by zero encountered in log\n",
      "  lnSigma_at_lnrp_interp = interp1d(np.log(rpavg), np.log(Sigma_at_rpavg))\n"
     ]
    },
    {
     "name": "stdout",
     "output_type": "stream",
     "text": [
      "Number of halos 26\n",
      "DeltaSigma1: [ 290.49951457  738.31283668 1096.54236225  590.23831001 -559.01237376\n",
      "  773.90617186  218.82682889  931.60335927  381.69223874  648.05637646\n",
      "  513.04353018 -478.69062848 -418.48638107  651.68700924  571.40177898\n",
      "   35.60074872  163.35326273  -74.48217268  197.18435302 1046.47493539\n",
      "  144.4956339   420.75428214  103.76901649  -37.79014438   -5.92403998\n",
      " -224.78204753 -636.71703815  416.87645761  847.92551064  388.94763799] \n",
      "\n",
      "DeltaSigma2: [ 670.46944006 -976.53351836  392.48445174  708.63843724  780.54112346\n",
      " 1138.75408989 1160.25965898  456.92985849 1396.92577477 1533.44199859\n",
      "  561.78482697  768.43215842 -752.76018371  463.95139372  -19.86142423\n",
      "  420.59713402 -286.23658961 -337.23999259  597.55172775 -467.61268112\n",
      "  125.18442416 1503.99086114  660.98271509  182.197139    181.45836768\n",
      " -302.32670537  564.64935664  749.44838835  105.76049524  560.49777768] \n",
      "\n",
      "DeltaSigma3: [-1051.17099275   428.49012385   640.59736334 -1238.24227598\n",
      "   671.53199173  1075.10839345  1034.85772076 -1108.60152775\n",
      "   257.69134197   264.49258727   340.0092258    791.8206734\n",
      " -1139.24453871   572.36010343  1145.75051909  1045.20203662\n",
      "   537.88608039  -218.99364043   920.08558967   625.30360275\n",
      "   -57.25788221 -2045.80362286  -932.96177246   950.86023564\n",
      "   676.20774125  1180.17467664   789.90041103    54.35991716\n",
      "   628.50318933   511.184628  ] \n",
      "\n",
      "DeltaSigma4: [  865.4727144  -1088.60578904 -2430.863769   -4253.39494649\n",
      " -5718.32685832   528.72368861   855.07081466  -313.33027985\n",
      "  1154.53081604  1160.05066051 -1833.69045087  -969.91874232\n",
      " -3150.24410067 -2375.25489086  -912.67760402  1134.20652926\n",
      " -1473.10857758 -1364.1494571  -1257.71652217   938.21928639\n",
      "   730.91724035   273.7396965  -1724.54114281    82.45429517\n",
      " -1504.09726139   516.70505743  1807.90440856  1691.7497426\n",
      "    79.11081905  1384.20168458] \n",
      "\n"
     ]
    }
   ],
   "source": [
    "richness = np.exp(new_richness) \n",
    "# richness = lam_noiseless2\n",
    "print(len(richness), len(xh))\n",
    "\n",
    "# Creating richness bins\n",
    "sel0 = (richness >= 20)&(richness < 30)\n",
    "sel1 = (richness >= 30)&(richness < 45)\n",
    "sel2 = (richness >= 45)&(richness < 60)\n",
    "sel3 = richness >= 60\n",
    "\n",
    "lam_bin0 = richness[sel0]\n",
    "lam_bin1 = richness[sel1]\n",
    "lam_bin2 = richness[sel2]\n",
    "lam_bin3 = richness[sel3]\n",
    "\n",
    "print(f'Length of richness bin 1: {len(lam_bin0)}')\n",
    "print(f'Length of richness bin 2: {len(lam_bin1)}')\n",
    "print(f'Length of richness bin 3: {len(lam_bin2)}')\n",
    "print(f'Length of richness bin 4: {len(lam_bin3)}\\n')\n",
    "\n",
    "# mass_true = mass[sel]\n",
    "mean_mass_true0 = np.mean(true_mass[sel0]) #M_sun\n",
    "mean_mass_true1 = np.mean(true_mass[sel1])\n",
    "mean_mass_true2 = np.mean(true_mass[sel2])\n",
    "mean_mass_true3 = np.mean(true_mass[sel3])\n",
    "\n",
    "std_arr_true = np.array([np.std(true_mass[sel0]), np.std(true_mass[sel1]), np.std(true_mass[sel2]), np.std(true_mass[sel3])])\n",
    "\n",
    "print('mean mass 1:', f'{mean_mass_true0:e}')\n",
    "print('mean mass 2:', f'{mean_mass_true1:e}')\n",
    "print('mean mass 3:', f'{mean_mass_true2:e}')\n",
    "print('mean mass 4:', f'{mean_mass_true3:e}\\n')\n",
    "\n",
    "rp_, Sigma0, DeltaSigma0 = ml.measure_lensing(xh[sel0], yh[sel0], zh[sel0], xp, yp, zp, boxsize, mpart)\n",
    "rp_, Sigma1, DeltaSigma1 = ml.measure_lensing(xh[sel1], yh[sel1], zh[sel1], xp, yp, zp, boxsize, mpart)\n",
    "rp_, Sigma2, DeltaSigma2 = ml.measure_lensing(xh[sel2], yh[sel2], zh[sel2], xp, yp, zp, boxsize, mpart)\n",
    "rp_, Sigma3, DeltaSigma3 = ml.measure_lensing(xh[sel3], yh[sel3], zh[sel3], xp, yp, zp, boxsize, mpart)\n",
    "# print('DeltaSigma1:', DeltaSigma0[:30], '\\n')\n",
    "# print('DeltaSigma2:', DeltaSigma1[:30], '\\n')\n",
    "# print('DeltaSigma3:', DeltaSigma2[:30], '\\n')\n",
    "# print('DeltaSigma4:', DeltaSigma3[:30], '\\n')"
   ]
  },
  {
   "cell_type": "code",
   "execution_count": 24,
   "id": "bf74662d-d3bf-466f-b772-52172615d855",
   "metadata": {
    "tags": []
   },
   "outputs": [
    {
     "name": "stdout",
     "output_type": "stream",
     "text": [
      "mean mass 1: 14.294698715209961\n",
      "mean mass 2: 14.45726203918457\n",
      "mean mass 3: 14.609029769897461\n",
      "mean mass 4: 14.808162689208984\n",
      "\n"
     ]
    }
   ],
   "source": [
    "print('mean mass 1:', f'{np.log10(mean_mass_true0)}')\n",
    "print('mean mass 2:', f'{np.log10(mean_mass_true1)}')\n",
    "print('mean mass 3:', f'{np.log10(mean_mass_true2)}')\n",
    "print('mean mass 4:', f'{np.log10(mean_mass_true3)}\\n')"
   ]
  },
  {
   "cell_type": "code",
   "execution_count": 25,
   "id": "f23f5a11-979b-46f2-b277-15bc5c375257",
   "metadata": {
    "tags": []
   },
   "outputs": [],
   "source": [
    "# # Recovered mass after MCMC fit\n",
    "# Mobs = np.array([14.28812963, 14.44795361, 14.60701019, 14.78960869]) #Mobs\n",
    "# std_arr_obs = np.array([0.02715088 , 0.02743035, 0.03615195, 0.03670088]) #std"
   ]
  },
  {
   "cell_type": "code",
   "execution_count": 26,
   "id": "d43b7a0e-685a-4466-a0f0-42f92fc4bc40",
   "metadata": {
    "tags": []
   },
   "outputs": [
    {
     "data": {
      "text/plain": [
       "array([0.11297636, 0.131733  , 0.09763318, 0.12824969], dtype=float32)"
      ]
     },
     "execution_count": 26,
     "metadata": {},
     "output_type": "execute_result"
    }
   ],
   "source": [
    "std_arr_true = np.array([np.std(np.log10(true_mass[sel0])), np.std(np.log10(true_mass[sel1])), np.std(np.log10(true_mass[sel2])), np.std(np.log10(true_mass[sel3]))])\n",
    "std_arr_true"
   ]
  },
  {
   "cell_type": "code",
   "execution_count": 30,
   "id": "a851ac70-1993-4856-ad7b-e47f0e64a9f7",
   "metadata": {
    "tags": []
   },
   "outputs": [
    {
     "data": {
      "image/png": "[encoded data removed]",
      "text/plain": [
       "<Figure size 800x600 with 1 Axes>"
      ]
     },
     "metadata": {},
     "output_type": "display_data"
    }
   ],
   "source": [
    "# True mass after MCMC fit\n",
    "mean_masses_true = np.array([np.log10(mean_mass_true0), np.log10(mean_mass_true1), np.log10(mean_mass_true2), np.log10(mean_mass_true3)]) #new data true_mass*h \n",
    "mask = lam_noiseless2 > 20\n",
    "x = [23.99617, 35.86541, 51.21334, 81.45424] # mean richness of the richness bins\n",
    "\n",
    "plt.rcParams['figure.figsize'] = (8,6)\n",
    "# plt.loglog()\n",
    "plt.xscale(\"log\")\n",
    "plt.errorbar(x, mean_masses_true, yerr = std_arr_true, \n",
    "             fmt = 'o', ms = 4.0, color = 'red',\n",
    "             label = \"Mtrue fit\")\n",
    "# plt.errorbar(x, Mobs, yerr = std_arr_obs, \n",
    "#              fmt = 'o', ms = 4.0, color = 'black', \n",
    "#              label = \"Mobs\")\n",
    "plt.plot(lam_noiseless2[mask], np.log10(avg_M[mask]), '-')\n",
    "plt.title(\"True vs recovered mass at z = 0.3\", fontsize=15)\n",
    "plt.xlabel(\"richness\", fontsize=15)\n",
    "plt.ylabel(\"Mass\", fontsize=15)\n",
    "plt.legend()\n",
    "plt.show()"
   ]
  },
  {
   "cell_type": "markdown",
   "id": "2468e514-b4ff-4517-adcb-59d716436497",
   "metadata": {
    "tags": []
   },
   "source": [
    "### McClintock Figure 4 (using MiniUchuu data)"
   ]
  },
  {
   "cell_type": "code",
   "execution_count": 32,
   "id": "4d7f4160-3e7c-4a28-98a2-2d59ec080f61",
   "metadata": {
    "tags": []
   },
   "outputs": [],
   "source": [
    "# Boost factors\n",
    "B_dic = {\"l3_z0\":0.34, \"l4_z0\":0.37, \"l5_z0\":0.27, \"l6_z0\":0.23, \n",
    "         \"l3_z1\":0.05, \"l4_z1\":0.14, \"l5_z1\":0.05, \"l6_z1\":0.21, \n",
    "         \"l3_z2\":0.13, \"l4_z2\":0.13, \"l5_z2\":0.09, \"l6_z2\":0.04}\n",
    "\n",
    "# Boost factor scale radius\n",
    "Rs_dic = {\"l3_z0\":0.44, \"l4_z0\":0.50, \"l5_z0\":0.80, \"l6_z0\":1.37, \n",
    "          \"l3_z1\":0.89, \"l4_z1\":0.44, \"l5_z1\":1.72, \"l6_z1\":0.51, \n",
    "          \"l3_z2\":0.38, \"l4_z2\":0.44, \"l5_z2\":0.85, \"l6_z2\":35.94}\n",
    "\n",
    "# z_dic = {\"0\":0.3, \"1\":0.45, \"2\":0.6}\n",
    "z_dic = {\"0\":0.5*(0.2+0.35), \"1\":0.5*(0.35+0.5), \"2\":0.5*(0.5+0.65)}\n",
    "Am_dic = {\"0\":1.021, \"1\":1.14, \"2\":1.16}\n",
    "\n",
    "Sigma_crit_dic = {\"l3_z0\":2.558834359999999819e-04, \"l4_z0\":2.562248809999999950e-04, \n",
    "                  \"l5_z0\":2.559633569999999851e-04, \"l6_z0\":2.557816409999999962e-04, \n",
    "                  \"l3_z1\":2.631864830000000188e-04, \"l4_z1\":2.640424589999999859e-04, \n",
    "                  \"l5_z1\":2.630129280000000004e-04, \"l6_z1\":2.629873459999999808e-04, \n",
    "                  \"l3_z2\":2.376251149999999903e-04, \"l4_z2\":2.379116389999999873e-04, \n",
    "                  \"l5_z2\":2.372028870000000031e-04, \"l6_z2\":2.373956570000000036e-04}\n",
    "\n",
    "mass_dic = {\"l3_z0\": mean_mass_true0, \"l4_z0\": mean_mass_true1, \"l5_z0\": mean_mass_true2, \"l6_z0\": mean_mass_true3} # Mass according to richness bins\n",
    "Sigma_dic = {\"l3_z0\": Sigma0, \"l4_z0\": Sigma1, \"l5_z0\": Sigma2, \"l6_z0\": Sigma3} # Sigma according to richness bins\n",
    "DeltaSigma_dic = {\"l3_z0\": DeltaSigma0, \"l4_z0\": DeltaSigma1, \"l5_z0\": DeltaSigma2, \"l6_z0\": DeltaSigma3} # Delta Sigma according to richness bins\n",
    "# DeltaSigma_dic[\"l3_z0\"]"
   ]
  },
  {
   "cell_type": "code",
   "execution_count": 36,
   "id": "ed45dccd-98ce-4ad2-be18-17b8611f1784",
   "metadata": {},
   "outputs": [],
   "source": [
    "from classy import Class\n",
    "import cluster_toolkit as ctk\n",
    "from colossus.cosmology import cosmology\n",
    "from scipy.stats import norm#, multivariate_normal\n",
    "\n",
    "#Start by specifying the cosmology\n",
    "Omega_b = cosmo_params['Ob0']\n",
    "Omega_m = cosmo_params['Om0']\n",
    "Omega_cdm = Omega_m - Omega_b\n",
    "sigma8 = cosmo_params['sigma8']\n",
    "h = cosmo_params['H0']/100 # McClintock h value\n",
    "A_s = 2.1e-9 #np.exp(3.064)/1e10 NB: ln(1e10*As)=3.064\n",
    "n_s = cosmo_params['ns']\n",
    "# z = 0.3\n",
    "\n",
    "#Create a params dictionary\n",
    "#Need to specify the max wavenumber\n",
    "k_max = 1000 #UNITS: 1/Mpc\n",
    "\n",
    "params = {\n",
    "         'output':'mPk',\n",
    "         'h':h,\n",
    "         'sigma8':sigma8,\n",
    "         'n_s':n_s,\n",
    "         'Omega_b':Omega_b,\n",
    "         'Omega_cdm':Omega_cdm,\n",
    "         'P_k_max_1/Mpc':k_max,\n",
    "         'z_max_pk':1.0, #Default value is 10\n",
    "         'non linear':'halofit'\n",
    "}\n",
    "\n",
    "#Initialize the cosmology and compute everything\n",
    "cosmo_ctk = Class()\n",
    "cosmo_ctk.set(params)\n",
    "cosmo_ctk.compute()"
   ]
  },
  {
   "cell_type": "code",
   "execution_count": 37,
   "id": "71a7689a-d8de-417c-a4bf-ef20fa19b424",
   "metadata": {},
   "outputs": [],
   "source": [
    "rp = np.array([ 0.04221139,  0.06651455,  0.10516441,  0.16537565,  0.26069825, \n",
    "               0.41202975,  0.65045543,  1.02563815,  1.61857299,  2.55379112, \n",
    "               4.02731114,  6.34991963, 10.00980414, 15.784786  , 24.87216972])\n",
    "def add_sys_to_data(mass, DS_data08, Sigma_data08, Rs, B0, Am, z, lam, Rp_mid):\n",
    "    tau = 0.17\n",
    "    fmis = 0.25\n",
    "\n",
    "    # mass = mass0/h\n",
    "    c = concentration.concentration(M=mass, mdef='200m', z=z, model = 'bhattacharya13') # 'bhattacharya13', 'bullock01'\n",
    "    # computing miscentering corrections\n",
    "    Rlam = (lam/100)**0.2 #Mpc/h comoving\n",
    "    Rmis = tau*Rlam #Mpc/h Radial miscentering offset. Cluster centers are wrongly identified by a distance Rmis.\n",
    "    \n",
    "    # McClintock radial bins\n",
    "    Rmin = 0.0323\n",
    "    Rmax = 30\n",
    "    nbins = 15\n",
    "    # rp = rp_\n",
    "    Rproj = rp_\n",
    "    # Rproj = np.logspace(-2, 2.3, num=1000, base=10)#*h*(1+z)\n",
    "    Redges = np.logspace(np.log10(Rmin), np.log10(Rmax), nbins+1) #Projected radial bin edges\n",
    "    Redges *= h*(1+z) #Converted to Mpc/h comoving\n",
    "    # Rp_mid = (Redges[:-1]+Redges[1:])/2\n",
    "    \n",
    "    # DeltaSigma (excess surface density)\n",
    "    # DS_theory = ctk.deltasigma.DeltaSigma_at_R(Rproj, Rproj, Sigma_data08, mass, c, Omega_m) #DeltaSigma\n",
    "    # print(DS_theory)\n",
    "    Sigma_mis8  = ctk.miscentering.Sigma_mis_at_R(Rproj, Rproj, Sigma_data08, mass, c, Omega_m, Rmis, kernel=\"gamma\") #miscentered Sigma profiles\n",
    "    DS_mis8 = ctk.miscentering.DeltaSigma_mis_at_R(Rproj, Rproj, Sigma_mis8) #miscentered Sigma profiles\n",
    "    full_Sigma = (1-fmis)*Sigma_data08 + fmis*Sigma_mis8 \n",
    "    \n",
    "    DS_data8 = (1-fmis)*DS_data08 + fmis*DS_mis8 # miscentered (from theory) + correctly centered DeltaSigma profiles\n",
    "    DS_data8 *= Am # multiplicative bias\n",
    "\n",
    "    # Compute boost factors from cluster toolkit\n",
    "    boost_model = ctk.boostfactors.boost_nfw_at_R(Rproj, B0, Rs*h*(1+z)) # to correct for dilution effects\n",
    "    # boost_model = ctk.boostfactors.boost_nfw_at_R(Rproj, B0, Rs) # to correct for dilution effects\n",
    "    DS_data8 /= boost_model # de-boost the model\n",
    "    Sigma_crit_inv = Sigma_crit_inv0*h*(1+z)**2\n",
    "    DS_data8 /= (1-full_Sigma*Sigma_crit_inv) #Reduced shear\n",
    "    DS_data_final = ctk.averaging.average_profile_in_bins(Redges, Rproj, DS_data8)\n",
    "    DS_data_final *= h*(1+z)**2 #convert to Msun/pc^2 physical\n",
    "    \n",
    "    # boost_model2 = ctk.boostfactors.boost_nfw_at_R(Rp_mid, B0, Rs*h*(1+z)) #theory\n",
    "    boost_model2 = ctk.boostfactors.boost_nfw_at_R(Rp_mid, B0, Rs) #theory\n",
    "    return DS_data_final, boost_model2"
   ]
  },
  {
   "cell_type": "code",
   "execution_count": 38,
   "id": "a5a9ed2c-ee4e-4643-96c5-e2946d1e31ac",
   "metadata": {
    "tags": []
   },
   "outputs": [
    {
     "name": "stdout",
     "output_type": "stream",
     "text": [
      "[191.74162097 170.91499727 155.426818   139.87708911 116.2985676\n",
      "  94.7696064   72.63005351  51.31382244  32.24724571  17.34734943\n",
      "   8.48638994   4.43077307   2.43804446   1.88250943   1.22418154]\n",
      "[153.55939939 151.83048483 147.00960388 137.40033594 122.05248632\n",
      " 101.22896564  76.59925756  51.81664341  31.40959355  17.3544222\n",
      "   8.75942321   4.5725404    2.67204861   1.74528001   1.19986061] \n",
      "\n",
      "[189.74695933 182.79092869 173.69546304 151.41082501 133.67809819\n",
      " 111.22745467  88.02340663  63.36457984  41.5966731   24.4568738\n",
      "  11.37715047   6.04595487   3.63530718   2.13932752   1.25432018]\n",
      "[167.85026519 166.31763053 162.42236683 154.19096776 140.06259849\n",
      " 119.52714744  93.58207901  65.64248835  41.08615821  23.37093228\n",
      "  12.06399201   6.10881983   3.44272643   2.17767899   1.46474981] \n",
      "\n",
      "[180.6463472  191.37613946 191.55449635 173.57573232 152.00695198\n",
      " 123.89897065 103.17118721  77.09928338  54.15422865  31.81075942\n",
      "  16.28672332   7.89337889   4.34247832   2.48065259   1.7652875 ]\n",
      "[205.21630017 198.68022458 190.45572775 178.73237572 162.05264398\n",
      " 139.65927585 111.75703405  80.78498486  52.14700523  30.48390272\n",
      "  16.23900179   8.10811375   4.42823452   2.71853601   1.78923197] \n",
      "\n",
      "[287.22956437 280.59501171 269.37461999 227.89932858 194.10821281\n",
      " 158.02984774 130.02186604 102.04424813  72.48860197  44.23365881\n",
      "  21.92526954  10.60382558   5.73597259   2.8996478    2.3796518 ]\n",
      "[249.78896325 236.9733565  224.08916409 209.16947917 190.53106563\n",
      " 166.91992605 137.55872333 103.5448946   69.82035685  42.45348394\n",
      "  23.60937305  11.91107867   6.27540065   3.71056282   2.37208129] \n",
      "\n"
     ]
    },
    {
     "data": {
      "image/png": "[encoded data removed]",
      "text/plain": [
       "<Figure size 1200x400 with 4 Axes>"
      ]
     },
     "metadata": {},
     "output_type": "display_data"
    }
   ],
   "source": [
    "from cluster_toolkit import miscentering\n",
    "\n",
    "z = 0.3\n",
    "a = 1/(1+z)\n",
    "a2 = a**2\n",
    "Am = 1.021 #Am_dic[l3_z0] \n",
    "\n",
    "#Specify k and z\n",
    "k = np.logspace(-5, np.log10(k_max), num=4000) #Mpc^-1 comoving\n",
    "\n",
    "# Power spectrum\n",
    "Pnonlin = np.array([cosmo_ctk.pk(ki, z) for ki in k])#*h**3  #Mpc^3/h^3 comoving\n",
    "Plin = np.array([cosmo_ctk.pk_lin(ki, z) for ki in k])#*h**3  #Mpc^3/h^3 comoving\n",
    "kh = k/h #h/Mpc comoving\n",
    "\n",
    "#P(k) are in Mpc^3/h^3 comoving\n",
    "#Thus, you will need to convert these to h/Mpc and (Mpc/h)^3 to use in the toolkit.\n",
    "Plin *= h**3\n",
    "Pnonlin *= h**3\n",
    "\n",
    "# Create a figure and four subplots (1 row, 4 columns)\n",
    "drop = 1\n",
    "fig, axes = plt.subplots(1, 4, figsize=(12, 4), sharey=True, sharex = True)\n",
    "# files_list = []\n",
    "for j in range(4):\n",
    "    if j+3 == 3:\n",
    "        lam = 25.0\n",
    "        # lam = 0.5*(20.0+30.0)\n",
    "    elif j+3 == 4:\n",
    "        lam = 40.0\n",
    "        # lam = 0.5*(30.0+45.0)\n",
    "    elif j+3 == 5:\n",
    "        lam = 55.0\n",
    "        # lam = 0.5*(45.0+60.0)\n",
    "    elif j+3 == 6:\n",
    "        lam = 82.0\n",
    "    # print(lam)\n",
    "\n",
    "    ########################################### \n",
    "    # parameters\n",
    "    lam_z_bin = \"l\"+str(j+3)+\"_z0\"\n",
    "    mass = mass_dic[lam_z_bin]\n",
    "    c = concentration.concentration(M=mass, mdef='200m', z=z, model = 'bhattacharya13') # 'bhattacharya13', 'bullock01'\n",
    "    # c = 5.81 #c_dic[lam_z_bin]\n",
    "    Rs = Rs_dic[lam_z_bin] #0.44 \n",
    "    B0 = B_dic[lam_z_bin] #0.34 \n",
    "    tau = 0.17\n",
    "    fmis = 0.25\n",
    "    Sigma_crit_inv0 = Sigma_crit_dic[lam_z_bin] #2.558834359999999819e-04 \n",
    "    \n",
    "    # computing miscentering corrections\n",
    "    Rlam = (lam/100)**0.2 #Mpc/h comoving\n",
    "    Rmis = tau*Rlam #Mpc/h Radial miscentering offset. Cluster centers are wrongly identified by a distance Rmis.\n",
    "    # Rproj = rp_\n",
    "    Rproj = np.logspace(-2, 2.4, num=1000, base=10) #Mpc/h Projected 2D radii. \n",
    "    R3d = np.logspace(-2, 3, num=1000, base=10) #Mpc/h comoving. 3D radii.\n",
    "    \n",
    "    # rp in comoving Mpc/h\n",
    "    Rmin = 0.0323 \n",
    "    Rmax = 30 \n",
    "    nbins = 15\n",
    "    \n",
    "    # rp1 = rp_\n",
    "    Redges = np.logspace(np.log10(Rmin), np.log10(Rmax), nbins+1) #Projected radial bin edges\n",
    "    # Redges = np.logspace(np.log10(0.0323), np.log10(30.), num=15+1) #Projected radial bin edges\n",
    "    # Redges2 = Redges*(h*(1+z)) #Converted to Mpc/h comoving\n",
    "    Redges *= h*(1+z) #Converted to Mpc/h comoving\n",
    "    # rp1 = (Redges[:-1]+Redges[1:])/2\n",
    "    \n",
    "    ##############################\n",
    "    # Incorporating systematic effects into the simulated profiles\n",
    "    Sigma_data08 = Sigma_dic[lam_z_bin] # Sigma profile\n",
    "    DS_data08 = DeltaSigma_dic[lam_z_bin] # DeltaSigma profile\n",
    "    DS_data8 = add_sys_to_data(mass, DS_data08, Sigma_data08, Rs, B0, Am, z, lam, rp)[0]\n",
    "    ##############################\n",
    "    \n",
    "    # NFW profile\n",
    "    xi_nfw = ctk.xi.xi_nfw_at_r(R3d, mass, c, Omega_m)\n",
    "    \n",
    "    # Matter-matter correlation function (matter auto-correlation)\n",
    "    # xi_mm = xi.xi_mm_at_r(r, k, Plin)\n",
    "    xi_mm = ctk.xi.xi_mm_at_r(R3d, kh, Pnonlin)\n",
    "    \n",
    "     # 2-halo correlation function\n",
    "    bias_term = ctk.bias.bias_at_M(mass, kh, Plin, Omega_m) # Here, P must be linear.\n",
    "    xi_2halo = ctk.xi.xi_2halo(bias_term, xi_mm)\n",
    "    \n",
    "    # Halo-matter correlation function\n",
    "    xi_hm = ctk.xi.xi_hm(xi_nfw, xi_2halo)\n",
    "    \n",
    "    # Sigma (computed from xi_hm)\n",
    "    Sigma = ctk.deltasigma.Sigma_at_R(Rproj, R3d, xi_hm, mass, c, Omega_m) #Sigma\n",
    "    \n",
    "    # DeltaSigma (excess surface density)\n",
    "    # mass = mass/h\n",
    "    DS_theory = ctk.deltasigma.DeltaSigma_at_R(Rproj, Rproj, Sigma, mass, c, Omega_m) #DeltaSigma\n",
    "    # print(DS_theory)\n",
    "    Sigma_mis = ctk.miscentering.Sigma_mis_at_R(Rproj, Rproj, Sigma, mass, c, Omega_m, Rmis, kernel=\"gamma\") #miscentered Sigma profiles\n",
    "    # print(Sigma_mis)\n",
    "    DS_mis = ctk.miscentering.DeltaSigma_mis_at_R(Rproj, Rproj, Sigma_mis) #miscentered Sigma profiles\n",
    "    # print(DS_mis)\n",
    "    #full Sigma profile; i.e. miscentered + correctly centered Sigma profiles\n",
    "    full_Sigma = (1-fmis)*Sigma + fmis*Sigma_mis \n",
    "    #full DeltaSigma profile; i.e. miscentered + correctly centered DeltaSigma profiles\n",
    "    full_DS = (1-fmis)*DS_theory + fmis*DS_mis \n",
    "    full_DS *= Am #multiplicative bias\n",
    "    \n",
    "    # Compute boost factors from cluster toolkit\n",
    "    #Note: Rs is default in Mpc physical\n",
    "    boost_model = ctk.boostfactors.boost_nfw_at_R(Rproj, B0, Rs*h*(1+z)) #theory\n",
    "    # boost_model = ctk.boostfactors.boost_nfw_at_R(Rproj, B0, Rs) #theory\n",
    "\n",
    "    full_DS /= boost_model #de-boost the model\n",
    "    Sigma_crit_inv = Sigma_crit_inv0*h*(1+z)**2\n",
    "    #Here, DeltaSigma is in Msun h/pc^2 comoving\n",
    "    full_DS /= (1-full_Sigma*Sigma_crit_inv) #Reduced shear\n",
    "\n",
    "    ave_DS = ctk.averaging.average_profile_in_bins(Redges, Rproj, full_DS)\n",
    "    ave_DS *= h*(1+z)**2 #convert to Msun/pc^2 physical\n",
    "\n",
    "    # print(DS_data8)\n",
    "    # print(ave_DS, \"\\n\")\n",
    "    inds = (rp > 0.1)*(rp < 999) \n",
    "    rp2 = rp[inds]\n",
    "    \n",
    "    label = \"data\"\n",
    "    axes[j].loglog()\n",
    "\n",
    "    ########################\n",
    "    # axes[j].set_ylim(9.0, 1.2e2)\n",
    "    axes[j].errorbar(rp2, DS_data8[inds], yerr = np.zeros(len(rp2)), fmt = '--o', \n",
    "                        ms = 4.0, color = 'darkblue', \n",
    "                        label = label)\n",
    "    axes[j].plot(rp2, ave_DS[inds], \"-r\", label = \"model\")\n",
    "    axes[j].legend()\n",
    "        \n",
    "# Add a super title, super x label, and super y label\n",
    "fig.suptitle(r'$\\Delta\\Sigma$ Profiles', fontsize=20)\n",
    "fig.supxlabel(r\"$\\rm R [Mpc/h]$\", fontsize=15)\n",
    "fig.supylabel(r\"$\\rm \\Delta\\Sigma\\,[hM_\\odot \\mathrm{pc}^{-2}]$\", fontsize=15)\n",
    "\n",
    "# Adjust spacing between subplots\n",
    "plt.tight_layout(h_pad = 0.0, w_pad = 0.2)\n",
    "plt.show()"
   ]
  },
  {
   "cell_type": "code",
   "execution_count": null,
   "id": "de3f0683-2672-4ca0-944b-c72f031c31a8",
   "metadata": {},
   "outputs": [],
   "source": [
    "from cluster_toolkit import miscentering\n",
    "\n",
    "fig, axes = plt.subplots(1, 4, figsize=(12, 4), sharey=True, sharex = True)\n",
    "# files_list = []\n",
    "for j in range(4):\n",
    "    if j+3 == 3:\n",
    "        lam = 25.0\n",
    "        # lam = 0.5*(20.0+30.0)\n",
    "    elif j+3 == 4:\n",
    "        lam = 40.0\n",
    "        # lam = 0.5*(30.0+45.0)\n",
    "    elif j+3 == 5:\n",
    "        lam = 55.0\n",
    "        # lam = 0.5*(45.0+60.0)\n",
    "    elif j+3 == 6:\n",
    "        lam = 82.0\n",
    "\n",
    "    ########################################### \n",
    "    # parameters\n",
    "    lam_z_bin = \"l\"+str(j+3)+\"_z0\"\n",
    "    Rs = Rs_dic[lam_z_bin] #0.44 \n",
    "    B0 = B_dic[lam_z_bin] #0.34 \n",
    "    Rproj = np.logspace(-2, 2.4, num=1000, base=10) #Mpc/h Projected 2D radii.\n",
    "    mass = mass_dic[lam_z_bin]\n",
    "    \n",
    "    # rp in comoving Mpc/h\n",
    "    Rmin = 0.0323 \n",
    "    Rmax = 30 \n",
    "    nbins = 15\n",
    "    Redges = np.logspace(np.log10(Rmin), np.log10(Rmax), nbins+1) #Projected radial bin edges\n",
    "    Redges *= h*(1+z) #Converted to Mpc/h comoving\n",
    "    rp1 = (Redges[:-1]+Redges[1:])/2\n",
    "    \n",
    "    # Compute boost factors from cluster toolkit\n",
    "    #Note: Rs is default in Mpc physical\n",
    "    boost_model = ctk.boostfactors.boost_nfw_at_R(rp1, B0, Rs*h*(1+z)) #theory\n",
    "    \n",
    "    Sigma_data08 = Sigma_dic[lam_z_bin] # Sigma profile\n",
    "    DS_data08 = DeltaSigma_dic[lam_z_bin] # DeltaSigma profile\n",
    "    boost_data = add_sys_to_data(mass, DS_data08, Sigma_data08, Rs, B0, Am, z, lam, rp)[1]\n",
    "    \n",
    "    # print(boost_data)\n",
    "    # print(boost_model, \"\\n\")\n",
    "    \n",
    "    inds = (rp1 > 0.0)*(rp1 < 999) \n",
    "    # inds = rp1 > 0.0\n",
    "    rp2 = rp1[inds]\n",
    "    \n",
    "    label = \"boost data\"\n",
    "    axes[j].loglog()\n",
    "\n",
    "    ########################\n",
    "    # axes[j].set_ylim(0.4, 3.5e2)\n",
    "    axes[j].errorbar(rp2, boost_data[inds], yerr = np.zeros(len(rp2)), fmt = '--o', \n",
    "                        ms = 4.0, color = 'darkblue', \n",
    "                        label = label)\n",
    "    axes[j].plot(rp2, boost_model[inds], \"-r\", label = \"model\")\n",
    "    axes[j].legend()\n",
    "        \n",
    "# Add a super title, super x label, and super y label\n",
    "fig.suptitle(r'$\\Delta\\Sigma$ Profiles', fontsize=20)\n",
    "fig.supxlabel(r\"$\\rm R [Mpc/h]$\", fontsize=15)\n",
    "# fig.supylabel(r\"$\\rm \\Delta\\Sigma\\,[M_\\odot \\mathrm{pc}^{-2}]$\", fontsize=15)\n",
    "fig.supylabel(r\"$\\rm r_p\\Delta\\Sigma\\,[M_\\odot \\mathrm{pc}^{-2}]$\", fontsize=15)\n",
    "\n",
    "# Adjust spacing between subplots\n",
    "plt.tight_layout(h_pad = 0.0, w_pad = 0.2)\n",
    "plt.show()"
   ]
  },
  {
   "cell_type": "code",
   "execution_count": null,
   "id": "dc2843f7-e652-4528-b38a-60115bf5259a",
   "metadata": {},
   "outputs": [],
   "source": []
  }
 ],
 "metadata": {
  "kernelspec": {
   "display_name": "mass_cal",
   "language": "python",
   "name": "mass_cal"
  },
  "language_info": {
   "codemirror_mode": {
    "name": "ipython",
    "version": 3
   },
   "file_extension": ".py",
   "mimetype": "text/x-python",
   "name": "python",
   "nbconvert_exporter": "python",
   "pygments_lexer": "ipython3",
   "version": "3.11.7"
  }
 },
 "nbformat": 4,
 "nbformat_minor": 5
}
